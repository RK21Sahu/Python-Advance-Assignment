{
 "cells": [
  {
   "cell_type": "code",
   "execution_count": null,
   "id": "e7494229",
   "metadata": {},
   "outputs": [],
   "source": [
    "Q1. Which two operator overloading methods can you use in your classes to support iteration?\n",
    "Ans - \n",
    "The __iter__ returns the iterator object and is implicitly called at the start of loops.\n",
    "The __next__ method returns the next value and is implicitly called at each loop increment.\n",
    "\n",
    "These above tow method can be used in classes to support iteration."
   ]
  },
  {
   "cell_type": "code",
   "execution_count": null,
   "id": "df4ddb75",
   "metadata": {},
   "outputs": [],
   "source": [
    "Q2. In what contexts do the two operator overloading methods manage printing?\n",
    "\n",
    "Ans - __iter__ method writes in nthe loop for the iteration. However __next__ method manually iterate."
   ]
  },
  {
   "cell_type": "code",
   "execution_count": null,
   "id": "7446c8d4",
   "metadata": {},
   "outputs": [],
   "source": [
    "Q3. In a class, how do you intercept slice operations?\n",
    "Ans - \"setslice\" and \"delslice\" are deprecated, if we want to do the interception we need to work with python slice objects\n",
    "passed to \"setitem\" and \"delitem\"."
   ]
  },
  {
   "cell_type": "code",
   "execution_count": null,
   "id": "19b67e7b",
   "metadata": {},
   "outputs": [],
   "source": [
    "Q4. In a class, how do you capture in-place addition?\n",
    "Ans - we can used iadd() method to capture in-place addition.\n",
    "\n",
    "operator.iadd(a,b) is eqivalenet to a+=b"
   ]
  },
  {
   "cell_type": "code",
   "execution_count": null,
   "id": "48541aac",
   "metadata": {},
   "outputs": [],
   "source": [
    "Q5. When is it appropriate to use operator overloading?\n",
    "Ans -  We will allow operator overloading in our classes when we need to perform multiple task using same piece of code."
   ]
  },
  {
   "cell_type": "code",
   "execution_count": null,
   "id": "5ac5f0bc",
   "metadata": {},
   "outputs": [],
   "source": []
  }
 ],
 "metadata": {
  "kernelspec": {
   "display_name": "Python 3",
   "language": "python",
   "name": "python3"
  },
  "language_info": {
   "codemirror_mode": {
    "name": "ipython",
    "version": 3
   },
   "file_extension": ".py",
   "mimetype": "text/x-python",
   "name": "python",
   "nbconvert_exporter": "python",
   "pygments_lexer": "ipython3",
   "version": "3.8.8"
  }
 },
 "nbformat": 4,
 "nbformat_minor": 5
}
