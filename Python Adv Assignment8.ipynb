{
 "cells": [
  {
   "cell_type": "code",
   "execution_count": null,
   "id": "7b584bdf",
   "metadata": {},
   "outputs": [],
   "source": [
    "Q1. What are the two latest user-defined exception constraints in Python 3.X?\n",
    "Ans - User defined exceptions in python are created by programmers to enforce constraints on the\n",
    "values which the variables in the program can take. "
   ]
  },
  {
   "cell_type": "code",
   "execution_count": null,
   "id": "826b3553",
   "metadata": {},
   "outputs": [],
   "source": [
    "Q2. How are class-based exceptions that have been raised matched to handlers?\n",
    "Ans - instead of using Exception class we can use class based excepotion such as ZeroDivisionError, ValueError etc."
   ]
  },
  {
   "cell_type": "code",
   "execution_count": null,
   "id": "2ea88221",
   "metadata": {},
   "outputs": [],
   "source": [
    "Q3. Describe two methods for attaching context information to exception artefacts.\n",
    "ans we can proivide context information in excption by manually raiseing the exception with help of raise keyword.\n",
    "\n",
    "like below example - \n",
    "\n",
    "   try:\n",
    "        raise IOError('Stuff ')"
   ]
  },
  {
   "cell_type": "code",
   "execution_count": null,
   "id": "67118ef6",
   "metadata": {},
   "outputs": [],
   "source": [
    "Q4. Describe two methods for specifying the text of an exception object's error message.\n",
    "\n",
    "Ans - \n",
    "To catch and print an exception that occurred in a code snippet, wrap it in an indented try block, followed by the \n",
    "command \"except Exception as e\" that catches the exception and saves its error message in string variable e . You can now \n",
    "print the error message with \"print(e)\" or use it for further processing."
   ]
  },
  {
   "cell_type": "code",
   "execution_count": null,
   "id": "6bf59b61",
   "metadata": {},
   "outputs": [],
   "source": [
    "Q5. Why do you no longer use string-based exceptions?\n",
    "Ans - \n",
    "Since we have additional funtion i.e. repr that can provide additional information the string based exception. \n",
    "We are no longer using the string based exceptions.\n",
    "\n",
    "Examples1\n",
    "try :\n",
    "    num_list = [10]\n",
    "    num_list += 5\n",
    "except Exception as error:\n",
    "   error_string = str(error)\n",
    "   print(error_string)\n",
    "\n",
    "output - 'int' object is not iterable\n",
    "\n",
    "Examples2\n",
    "try :\n",
    "    num_list = [10]\n",
    "    num_list += 5\n",
    "except Exception as error:\n",
    "   error_string = repr(error)\n",
    "   print(error_string)\n",
    "    \n",
    "TypeError(\"'int' object is not iterable\")\n",
    "\n",
    "In example 2 we can get the additional details for error. Here it is TypeError.\n"
   ]
  },
  {
   "cell_type": "code",
   "execution_count": null,
   "id": "635736b2",
   "metadata": {},
   "outputs": [],
   "source": []
  }
 ],
 "metadata": {
  "kernelspec": {
   "display_name": "Python 3",
   "language": "python",
   "name": "python3"
  },
  "language_info": {
   "codemirror_mode": {
    "name": "ipython",
    "version": 3
   },
   "file_extension": ".py",
   "mimetype": "text/x-python",
   "name": "python",
   "nbconvert_exporter": "python",
   "pygments_lexer": "ipython3",
   "version": "3.8.8"
  }
 },
 "nbformat": 4,
 "nbformat_minor": 5
}
