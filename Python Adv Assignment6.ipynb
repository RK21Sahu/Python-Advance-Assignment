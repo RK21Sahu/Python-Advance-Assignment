{
 "cells": [
  {
   "cell_type": "code",
   "execution_count": null,
   "id": "aa5568c8",
   "metadata": {},
   "outputs": [],
   "source": [
    "Q1. Describe three applications for exception processing.\n",
    "Ans- try, catch and finally are used for exception handling."
   ]
  },
  {
   "cell_type": "code",
   "execution_count": null,
   "id": "4a015968",
   "metadata": {},
   "outputs": [],
   "source": [
    "Q2. What happens if you don't do something extra to treat an exception?\n",
    "ans - We won't do something extra to treat an exception then specific code might not\n",
    "execute in some senario and program might crash at some point."
   ]
  },
  {
   "cell_type": "code",
   "execution_count": null,
   "id": "c5bf907c",
   "metadata": {},
   "outputs": [],
   "source": [
    "Q3. What are your options for recovering from an exception in your script?\n",
    "ans - \n",
    "If you have some suspicious code that may raise an exception, you can defend your program by placing the suspicious code \n",
    "in a try: block. After the try: block, include an except: statement, followed by a block of code which handles \n",
    "the problem as elegantly as possible."
   ]
  },
  {
   "cell_type": "code",
   "execution_count": null,
   "id": "3f9081ec",
   "metadata": {},
   "outputs": [],
   "source": [
    "Q4. Describe two methods for triggering exceptions in your script.\n",
    "Ans - \n",
    "Try – This method catches the exceptions raised by the program.\n",
    "Raise – Triggers an exception manually using custom exceptions."
   ]
  },
  {
   "cell_type": "code",
   "execution_count": null,
   "id": "b6697c09",
   "metadata": {},
   "outputs": [],
   "source": [
    "Q5. Identify two methods for specifying actions to be executed at termination time, regardless of whether\n",
    "or not an exception exists.\n",
    "ans - These two methods are else and finally."
   ]
  },
  {
   "cell_type": "code",
   "execution_count": null,
   "id": "7efa11b4",
   "metadata": {},
   "outputs": [],
   "source": []
  }
 ],
 "metadata": {
  "kernelspec": {
   "display_name": "Python 3",
   "language": "python",
   "name": "python3"
  },
  "language_info": {
   "codemirror_mode": {
    "name": "ipython",
    "version": 3
   },
   "file_extension": ".py",
   "mimetype": "text/x-python",
   "name": "python",
   "nbconvert_exporter": "python",
   "pygments_lexer": "ipython3",
   "version": "3.8.8"
  }
 },
 "nbformat": 4,
 "nbformat_minor": 5
}
