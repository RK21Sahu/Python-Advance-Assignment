{
 "cells": [
  {
   "cell_type": "code",
   "execution_count": null,
   "id": "ca5aad7c",
   "metadata": {},
   "outputs": [],
   "source": [
    "Q1. What is the meaning of multiple inheritance?\n",
    "Ans - When a class is derived from more than one base class it is called multiple Inheritance."
   ]
  },
  {
   "cell_type": "code",
   "execution_count": null,
   "id": "1c1ade7d",
   "metadata": {},
   "outputs": [],
   "source": [
    "Q2. What is the concept of delegation?\n",
    "Ans - The delegation pattern is an object-oriented design pattern that allows object composition to achieve the same code\n",
    "reuse as inheritance."
   ]
  },
  {
   "cell_type": "code",
   "execution_count": null,
   "id": "4f70ac2d",
   "metadata": {},
   "outputs": [],
   "source": [
    "Q3. What is the concept of composition?\n",
    "Ans - Composition is a concept that models a has a relationship. It enables creating complex types by combining objects of \n",
    "other types. This means that a class Composite can contain an object of another class Component . \n",
    "This relationship means that a Composite has a Component ."
   ]
  },
  {
   "cell_type": "code",
   "execution_count": null,
   "id": "6982cb6f",
   "metadata": {},
   "outputs": [],
   "source": [
    "Q4. What are bound methods and how do we use them?\n",
    "Ans - A bound method is the one which is dependent on the instance of the class as the first argument. It passes the \n",
    "instance as the first argument which is used to access the variables and functions. In Python 3 and newer versions of \n",
    "python, all functions in the class are by default bound methods."
   ]
  },
  {
   "cell_type": "code",
   "execution_count": null,
   "id": "c4950383",
   "metadata": {},
   "outputs": [],
   "source": [
    "Q5. What is the purpose of pseudoprivate attributes?\n",
    "Ans - This is sometimes misleadingly called private attributes really, it's just a way to localize a name to the class \n",
    "that created it, and does not prevent access by code outside the class. That is, this feature is mostly intended to avoid\n",
    "namespace collisions in instances, not to restrict access to names in general."
   ]
  },
  {
   "cell_type": "code",
   "execution_count": null,
   "id": "90224964",
   "metadata": {},
   "outputs": [],
   "source": []
  }
 ],
 "metadata": {
  "kernelspec": {
   "display_name": "Python 3",
   "language": "python",
   "name": "python3"
  },
  "language_info": {
   "codemirror_mode": {
    "name": "ipython",
    "version": 3
   },
   "file_extension": ".py",
   "mimetype": "text/x-python",
   "name": "python",
   "nbconvert_exporter": "python",
   "pygments_lexer": "ipython3",
   "version": "3.8.8"
  }
 },
 "nbformat": 4,
 "nbformat_minor": 5
}
