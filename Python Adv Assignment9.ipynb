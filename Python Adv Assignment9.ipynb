{
 "cells": [
  {
   "cell_type": "code",
   "execution_count": null,
   "id": "1be3aa9d",
   "metadata": {},
   "outputs": [],
   "source": [
    "Q1. In Python 3.X, what are the names and functions of string object types?\n",
    "\n",
    "Ans - \n",
    "Below are the styring functions avaiable in python 3.x\n",
    "\n",
    "format() ,split() ,join() ,strip() ,format_map() ,upper() ,lower() ,replace() ,find() ,translate() ,Function ,encode() ,\n",
    "count(),,startswith() ,endswith() ,capitalize() ,center() ,casefold() ,expandtabs() ,index() ,__contains__() ,Function ,\n",
    "isalnum() ,isalpha(),isdecimal() ,isdigit() ,isidentifier() ,islower() ,isnumeric() ,isprintable() ,isspace() ,istitle() ,\n",
    "isupper() ,rjust(), ljust(),swapcase() ,partition() ,splitlines() ,title() ,zfill() ,len() ,ascii() ,bool() ,bytearray(),\n",
    "bytes() ,ord() ,enumerate() ,float() ,hash(),id() ,int() ,map() ,print() ,slice() ,type()\n"
   ]
  },
  {
   "cell_type": "code",
   "execution_count": null,
   "id": "1838ff51",
   "metadata": {},
   "outputs": [],
   "source": [
    "Q2. How do the string forms in Python 3.X vary in terms of operations?\n",
    "Ans - we can use str() function to convert into string."
   ]
  },
  {
   "cell_type": "code",
   "execution_count": null,
   "id": "7c9eca6e",
   "metadata": {},
   "outputs": [],
   "source": [
    "Q3. In 3.X, how do you put non-ASCII Unicode characters in a string?\n",
    "Ans - we can use the unidecode() funtion to use the non-ASCII Unicode characters in a string."
   ]
  },
  {
   "cell_type": "code",
   "execution_count": null,
   "id": "2590bb9f",
   "metadata": {},
   "outputs": [],
   "source": [
    "Q4. In Python 3.X, what are the key differences between text-mode and binary-mode files?\n",
    "Ans - \n",
    "In the text file, the newline character is converted to carriage-return/linefeed before being written to the disk.\n",
    "In binary file, conversion of newline to carriage-return and linefeed does not take place.\n",
    "\n",
    "Text files are used to store data more user friendly.\n",
    "Binary files are used to store data more compactly.\n",
    "\n",
    "In the text file, a special character whose ASCII value is 26 inserted after the last character to mark the end of file.\n",
    "In the binary file no such character is present. Files keep track of the end of the file from the number of characters \n",
    "present.\n",
    "\n",
    "Content written in text files is human readable.\n",
    "Content written in binary files is not human readable and looks like encrypted content."
   ]
  },
  {
   "cell_type": "code",
   "execution_count": null,
   "id": "9fb26320",
   "metadata": {},
   "outputs": [],
   "source": [
    "Q5. How can you interpret a Unicode text file containing text encoded in a different encoding than your platform's default?\n",
    "Ans - We can decode the function using the decode() function to our any option like utf8."
   ]
  },
  {
   "cell_type": "code",
   "execution_count": null,
   "id": "265a42f7",
   "metadata": {},
   "outputs": [],
   "source": [
    "Q6. What is the best way to make a Unicode text file in a particular encoding format?\n",
    "Ans - we can decode the file in utf8 foramt, so that it will be user friendly."
   ]
  },
  {
   "cell_type": "code",
   "execution_count": null,
   "id": "00017550",
   "metadata": {},
   "outputs": [],
   "source": [
    "Q7. What qualifies ASCII text as a form of Unicode text?\n",
    "Ans - For backward compatibility, the first 128 Unicode characters point to ASCII characters. And since UTF-8 encodes \n",
    "each of those characters using 1-byte. ASCII is essentially just UTF-8, or we can say that ASCII is a subset of Unicode.\n",
    "Hence ASCII text qualify in the form of unicode text."
   ]
  },
  {
   "cell_type": "code",
   "execution_count": null,
   "id": "6352561a",
   "metadata": {},
   "outputs": [],
   "source": [
    "Q8. How much of an effect does the change in string types in Python 3.X have on your code?\n",
    "Ans -It may give the type error, if we are providing proper type in our code."
   ]
  },
  {
   "cell_type": "code",
   "execution_count": null,
   "id": "73e023fe",
   "metadata": {},
   "outputs": [],
   "source": []
  }
 ],
 "metadata": {
  "kernelspec": {
   "display_name": "Python 3",
   "language": "python",
   "name": "python3"
  },
  "language_info": {
   "codemirror_mode": {
    "name": "ipython",
    "version": 3
   },
   "file_extension": ".py",
   "mimetype": "text/x-python",
   "name": "python",
   "nbconvert_exporter": "python",
   "pygments_lexer": "ipython3",
   "version": "3.8.8"
  }
 },
 "nbformat": 4,
 "nbformat_minor": 5
}
