{
 "cells": [
  {
   "cell_type": "code",
   "execution_count": null,
   "id": "894cba37",
   "metadata": {},
   "outputs": [],
   "source": [
    "Q1. What is the purpose of Python's OOP?\n",
    "\n",
    "Ans - In Python, object-oriented Programming (OOPs) is a programming paradigm that uses objects and classes in programming.\n",
    "It aims to implement real-world entities like inheritance, polymorphisms, encapsulation, etc. in the programming. \n",
    "The main concept of OOPs is to bind the data and the functions that work on that together as a single unit so that no \n",
    "other part of the code can access this data."
   ]
  },
  {
   "cell_type": "code",
   "execution_count": null,
   "id": "8ef1c351",
   "metadata": {},
   "outputs": [],
   "source": [
    "Q2. Where does an inheritance search look for an attribute?\n",
    "Ans - The whole point of a namespace tool like the class statement is to support name inheritance. In Python, inheritance \n",
    "happens when an object is qualified, and involves searching an attribute definition tree (one or more namespaces). Every \n",
    "time you use an expression of the form object."
   ]
  },
  {
   "cell_type": "code",
   "execution_count": null,
   "id": "e4770c3c",
   "metadata": {},
   "outputs": [],
   "source": [
    "Q3. How do you distinguish between a class object and an instance object?\n",
    "Ans - \n",
    "class object - when we create a class in python then a class object is created so whenever python finds a class statement \n",
    "in the whole program then it creates a class object and assigns a name to that object i.e. class name. As we know in \n",
    "python, everything is an object so the class itself is an object and is the instance of metaclasses. \n",
    "Ex:\n",
    "class myclass:\n",
    "    pass\n",
    "Above code will generate a class object and name it ‘MyClass’. From this class object, we will create instance objects.\n",
    "\n",
    "Instance object - when we call a class, it creates an instance object of that class from which the object has been created.\n",
    "For example when we call the above-created class then it will create an instance object as mentioned below.\n",
    "obj = myclass()\n",
    "\n",
    "The above statement creates an object and names it to Obj1 which is an instance of MyClass.\n"
   ]
  },
  {
   "cell_type": "code",
   "execution_count": null,
   "id": "52d8b453",
   "metadata": {},
   "outputs": [],
   "source": [
    "Q4. What makes the first argument in a class’s method function special?\n",
    "Ans - Gnerally we used to pass the first argument in the class as self (even though its not mandatory to name as self).\n",
    "self represents the instance of the class. By using the “self”  we can access the attributes and methods of the class \n",
    "in python. It binds the attributes with the given arguments.\n",
    "Self is always pointing to Current Object."
   ]
  },
  {
   "cell_type": "code",
   "execution_count": null,
   "id": "194c547a",
   "metadata": {},
   "outputs": [],
   "source": [
    "Q5. What is the purpose of the __init__ method?\n",
    "ans -  The __init__  function is called every time an object is created from a class. The __init__ method lets the class \n",
    "initialize the object’s attributes and serves no other purpose. It is only used within classes. \n",
    "\n",
    "The __init__ method is the Python equivalent of the C++ constructor in an object-oriented approach."
   ]
  },
  {
   "cell_type": "code",
   "execution_count": null,
   "id": "89fff06c",
   "metadata": {},
   "outputs": [],
   "source": [
    "Q6. What is the process for creating a class instance?\n",
    "Ans - \n",
    "Call ClassName() to create a new instance of the class ClassName.\n",
    "\n",
    "example - \n",
    "\n",
    "class myclass:\n",
    "    pass\n",
    "\n",
    "obj=myclass()\n",
    "\n",
    "Here one instance of myclass created."
   ]
  },
  {
   "cell_type": "code",
   "execution_count": null,
   "id": "bdc95101",
   "metadata": {},
   "outputs": [],
   "source": [
    "Q7. What is the process for creating a class?\n",
    "\n",
    "ans - \n",
    "\n",
    "We can create one class by providing valid name after class keyword.\n",
    "\n",
    "example - \n",
    "\n",
    "class myclass:\n",
    "    pass\n"
   ]
  },
  {
   "cell_type": "code",
   "execution_count": null,
   "id": "2a0550f8",
   "metadata": {},
   "outputs": [],
   "source": [
    "Q8. How would you define the superclasses of a class?\n",
    "Ans - \n",
    "A superclass is the class from which many subclasses can be created. The subclasses inherit the characteristics of a \n",
    "superclass. The superclass is also known as the parent class or base class"
   ]
  },
  {
   "cell_type": "code",
   "execution_count": null,
   "id": "22555cc6",
   "metadata": {},
   "outputs": [],
   "source": []
  }
 ],
 "metadata": {
  "kernelspec": {
   "display_name": "Python 3",
   "language": "python",
   "name": "python3"
  },
  "language_info": {
   "codemirror_mode": {
    "name": "ipython",
    "version": 3
   },
   "file_extension": ".py",
   "mimetype": "text/x-python",
   "name": "python",
   "nbconvert_exporter": "python",
   "pygments_lexer": "ipython3",
   "version": "3.8.8"
  }
 },
 "nbformat": 4,
 "nbformat_minor": 5
}
