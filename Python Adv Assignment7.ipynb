{
 "cells": [
  {
   "cell_type": "code",
   "execution_count": null,
   "id": "6ac23694",
   "metadata": {},
   "outputs": [],
   "source": [
    "Q1. What is the purpose of the try statement?\n",
    "Ans - If there is any suspisious code in our program then we can write those code in try block. Hence the program \n",
    "won't crash."
   ]
  },
  {
   "cell_type": "code",
   "execution_count": null,
   "id": "78bbe26e",
   "metadata": {},
   "outputs": [],
   "source": [
    "Q2. What are the two most popular try statement variations?\n",
    "Ans - Try and raise are the two most popular try statement."
   ]
  },
  {
   "cell_type": "code",
   "execution_count": null,
   "id": "3ea83ac4",
   "metadata": {},
   "outputs": [],
   "source": [
    "Q3. What is the purpose of the raise statement?\n",
    "Ans - Rause statement is used to raise a exception manually."
   ]
  },
  {
   "cell_type": "code",
   "execution_count": null,
   "id": "2b92df67",
   "metadata": {},
   "outputs": [],
   "source": [
    "Q4. What does the assert statement do, and what other statement is it like?\n",
    "ans - The assert keyword is used when debugging code. The assert keyword lets you test if a condition in your code returns \n",
    "True, if not, the program will raise an AssertionError.\n",
    "\n",
    "Similar statements are assestTrue, assestFalse, assertEqual and assesrtRaise"
   ]
  },
  {
   "cell_type": "code",
   "execution_count": null,
   "id": "ab5d4b00",
   "metadata": {},
   "outputs": [],
   "source": [
    "Q5. What is the purpose of the with/as argument, and what other statement is it like?\n",
    "Ans - \n",
    "with statement in Python is used in exception handling to make the code cleaner and much more readable. It simplifies the \n",
    "management of common resources like file streams.\n"
   ]
  },
  {
   "cell_type": "code",
   "execution_count": null,
   "id": "d5d52ed1",
   "metadata": {},
   "outputs": [],
   "source": []
  }
 ],
 "metadata": {
  "kernelspec": {
   "display_name": "Python 3",
   "language": "python",
   "name": "python3"
  },
  "language_info": {
   "codemirror_mode": {
    "name": "ipython",
    "version": 3
   },
   "file_extension": ".py",
   "mimetype": "text/x-python",
   "name": "python",
   "nbconvert_exporter": "python",
   "pygments_lexer": "ipython3",
   "version": "3.8.8"
  }
 },
 "nbformat": 4,
 "nbformat_minor": 5
}
