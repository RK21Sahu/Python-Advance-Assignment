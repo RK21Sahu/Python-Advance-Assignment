{
 "cells": [
  {
   "cell_type": "code",
   "execution_count": null,
   "id": "6b02088d",
   "metadata": {},
   "outputs": [],
   "source": [
    "Q1. What is the relationship between classes and modules?\n",
    "Ans - The difference between a class and a module in python is that a class is used to define a blueprint for a given \n",
    "object, whereas a module is used to reuse a given piece of code inside another program.\n"
   ]
  },
  {
   "cell_type": "code",
   "execution_count": null,
   "id": "e96d345f",
   "metadata": {},
   "outputs": [],
   "source": [
    "Q2. How do you make instances and classes?\n",
    "Ans - \n",
    "Call ClassName() to create a new instance of the class ClassName .\n",
    "Example - \n",
    "\n",
    "class myclass:\n",
    "    pass\n",
    "\n",
    "obj=mycass()\n",
    "\n",
    "Here myclass is a class and obj is a instance of the my class."
   ]
  },
  {
   "cell_type": "code",
   "execution_count": null,
   "id": "1decfa1a",
   "metadata": {},
   "outputs": [],
   "source": [
    "Q3. Where and how should be class attributes created?\n",
    "Ans - Class attributes belong to the class itself they will be shared by all the instances. Such attributes are defined \n",
    "in the class body parts usually at the top, for legibility.\n",
    "\n",
    "example - \n",
    "class sampleclass:\n",
    "    count = 0 #Class attributes\n",
    "    print(count)"
   ]
  },
  {
   "cell_type": "code",
   "execution_count": null,
   "id": "d9a736b7",
   "metadata": {},
   "outputs": [],
   "source": [
    "Q4. Where and how are instance attributes created?\n",
    "Ans - Unlike class attributes, instance attributes are not shared by objects. Every object has its own copy of\n",
    "the instance attribute. \n",
    "\n",
    "class emp:\n",
    "    def __init__(self):\n",
    "        self.name = 'xyz'\n",
    "        self.salary = 4000\n",
    "  \n",
    "    def show(self):\n",
    "        print(self.name)\n",
    "        print(self.salary)\n",
    "        \n",
    "e1 = emp()"
   ]
  },
  {
   "cell_type": "code",
   "execution_count": null,
   "id": "42a2d73b",
   "metadata": {},
   "outputs": [],
   "source": [
    "Q5. What does the term \"self\" in a Python class mean?\n",
    "ans -\n",
    "self represents the instance of the class. By using the “self”  we can access the attributes and methods of the class \n",
    "in python. It binds the attributes with the given arguments.\n",
    "Self is always pointing to Current Object."
   ]
  },
  {
   "cell_type": "code",
   "execution_count": null,
   "id": "7640656b",
   "metadata": {},
   "outputs": [],
   "source": [
    "Q6. How does a Python class handle operator overloading?\n",
    "Ans - Operator Overloading means giving extended meaning beyond their predefined operational meaning. \n",
    "For example operator + is used to add two integers as well as join two strings and merge two lists. It is achievable \n",
    "because '+' operator is overloaded by int class and str class."
   ]
  },
  {
   "cell_type": "code",
   "execution_count": null,
   "id": "cfd1d770",
   "metadata": {},
   "outputs": [],
   "source": [
    "Q7. When do you consider allowing operator overloading of your classes?\n",
    "Ans -  We will allow operator overloading in our classes when we need to perform multiple task using same piece of code."
   ]
  },
  {
   "cell_type": "code",
   "execution_count": null,
   "id": "fbabaf3d",
   "metadata": {},
   "outputs": [],
   "source": [
    "Q8. What is the most popular form of operator overloading?\n",
    "Ans - A very popular and convenient example is the Addition (+) operator. Just think how the '+' operator operates on \n",
    "two numbers and the same operator operates on two strings. It performs \"Addition\" on numbers whereas it performs\n",
    "\"Concatenation\" on strings."
   ]
  },
  {
   "cell_type": "code",
   "execution_count": null,
   "id": "8ca5cac9",
   "metadata": {},
   "outputs": [],
   "source": [
    "Q9. What are the two most important concepts to grasp in order to comprehend Python OOP code?\n",
    "Ans - In python the two key concepts of OOP are inheritance and polymorphism. Both inheritance and polymorphism are key \n",
    "ingredients for designing robust, flexible, and easy-to-maintain software."
   ]
  },
  {
   "cell_type": "code",
   "execution_count": null,
   "id": "b24f7804",
   "metadata": {},
   "outputs": [],
   "source": []
  },
  {
   "cell_type": "code",
   "execution_count": null,
   "id": "57002257",
   "metadata": {},
   "outputs": [],
   "source": []
  }
 ],
 "metadata": {
  "kernelspec": {
   "display_name": "Python 3",
   "language": "python",
   "name": "python3"
  },
  "language_info": {
   "codemirror_mode": {
    "name": "ipython",
    "version": 3
   },
   "file_extension": ".py",
   "mimetype": "text/x-python",
   "name": "python",
   "nbconvert_exporter": "python",
   "pygments_lexer": "ipython3",
   "version": "3.8.8"
  }
 },
 "nbformat": 4,
 "nbformat_minor": 5
}
