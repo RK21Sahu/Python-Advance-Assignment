{
 "cells": [
  {
   "cell_type": "code",
   "execution_count": null,
   "id": "0c3b16c8",
   "metadata": {},
   "outputs": [],
   "source": [
    "1. What is the concept of an abstract superclass?\n",
    "Ans -An abstract superclass is one way to provide re-usable code. You can extend the abstract class and inherit the code."
   ]
  },
  {
   "cell_type": "code",
   "execution_count": null,
   "id": "b0bdaec8",
   "metadata": {},
   "outputs": [],
   "source": [
    "2. What happens when a class statement's top level contains a basic assignment statement?\n",
    "Ans - If class statement's top level contains a basic assignment statement the it will create a class atrribute.\\\n",
    "\n",
    "example - \n",
    "\n",
    "class myclass:\n",
    "    count=7\n",
    "    print(7)\n"
   ]
  },
  {
   "cell_type": "code",
   "execution_count": null,
   "id": "61b08bf7",
   "metadata": {},
   "outputs": [],
   "source": [
    "3. Why does a class need to manually call a superclass's __init__ method?\n",
    "ans - The main reason for always calling base class _init__ is that base class may typically create member variable and \n",
    "initialize them to defaults. So if you don't call base class init, none of that code would be executed and you would end up\n",
    "with base class that has no member variables."
   ]
  },
  {
   "cell_type": "code",
   "execution_count": null,
   "id": "404c2ac8",
   "metadata": {},
   "outputs": [],
   "source": [
    "4. How can you augment, instead of completely replacing, an inherited method?\n",
    "Ans - In Python, when a subclass defines a function that already exists in its superclass in order to add some other \n",
    "functionality in its own way, the function in the subclass is said to be an extended method and the mechanism is known as \n",
    "extending. It is a way by which Python shows Polymorphism. "
   ]
  },
  {
   "cell_type": "code",
   "execution_count": null,
   "id": "edbecd6d",
   "metadata": {},
   "outputs": [],
   "source": [
    "5. How is the local scope of a class different from that of a function?\n",
    "Ans - A variable created inside a class will be available anywhere in the class. However the scope of the variable \n",
    "crearted in the function will be available only with in function not in the class outside of the function."
   ]
  },
  {
   "cell_type": "code",
   "execution_count": null,
   "id": "0ccdda39",
   "metadata": {},
   "outputs": [],
   "source": []
  }
 ],
 "metadata": {
  "kernelspec": {
   "display_name": "Python 3",
   "language": "python",
   "name": "python3"
  },
  "language_info": {
   "codemirror_mode": {
    "name": "ipython",
    "version": 3
   },
   "file_extension": ".py",
   "mimetype": "text/x-python",
   "name": "python",
   "nbconvert_exporter": "python",
   "pygments_lexer": "ipython3",
   "version": "3.8.8"
  }
 },
 "nbformat": 4,
 "nbformat_minor": 5
}
