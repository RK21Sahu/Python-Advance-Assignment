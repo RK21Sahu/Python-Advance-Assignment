{
 "cells": [
  {
   "cell_type": "code",
   "execution_count": null,
   "id": "3c4f940c",
   "metadata": {},
   "outputs": [],
   "source": [
    "Q1. What is the difference between __getattr__ and __getattribute__?\n",
    "Ans - \n",
    "getattribute: Is used to retrieve an attribute from an instance. It captures every attempt to access an\n",
    "instance attribute by using dot notation or getattr() built-in function.\n",
    "\n",
    "getattr: Is executed as the last resource when attribute is not found in an object. You can choose to return \n",
    "a default value or to raise AttributeError.\n",
    "__getattribute__ has a default implementation, but __getattr__ does not."
   ]
  },
  {
   "cell_type": "code",
   "execution_count": null,
   "id": "5d1bd6d3",
   "metadata": {},
   "outputs": [],
   "source": [
    "Q2. What is the difference between properties and descriptors?\n",
    "Ans - \n",
    "Descriptors are a low-level mechanism that lets you hook into an object's attributes being accessed. Properties are a \n",
    "high-level application of this; that is, properties are implemented using descriptors."
   ]
  },
  {
   "cell_type": "code",
   "execution_count": null,
   "id": "74e2f411",
   "metadata": {},
   "outputs": [],
   "source": [
    "Q3. What are the key differences in functionality between __getattr__ and __getattribute__, \n",
    "as well as properties and descriptors?\n",
    "Ans -\n",
    "__getattribute__ has a default implementation, but __getattr__ does not.\n",
    "Descriptors are a low-level mechanism that lets you hook into an object's attributes being accessed. Properties are a \n",
    "high-level application of this; that is, properties are implemented using descriptors."
   ]
  },
  {
   "cell_type": "code",
   "execution_count": null,
   "id": "8cd81976",
   "metadata": {},
   "outputs": [],
   "source": []
  }
 ],
 "metadata": {
  "kernelspec": {
   "display_name": "Python 3",
   "language": "python",
   "name": "python3"
  },
  "language_info": {
   "codemirror_mode": {
    "name": "ipython",
    "version": 3
   },
   "file_extension": ".py",
   "mimetype": "text/x-python",
   "name": "python",
   "nbconvert_exporter": "python",
   "pygments_lexer": "ipython3",
   "version": "3.8.8"
  }
 },
 "nbformat": 4,
 "nbformat_minor": 5
}
